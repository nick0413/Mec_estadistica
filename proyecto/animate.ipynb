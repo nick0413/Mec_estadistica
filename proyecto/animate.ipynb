{
 "cells": [
  {
   "cell_type": "code",
   "execution_count": 1,
   "metadata": {},
   "outputs": [],
   "source": [
    "import numpy as np\n",
    "import matplotlib.pyplot as plt\n",
    "import matplotlib.animation as animation\n"
   ]
  },
  {
   "cell_type": "code",
   "execution_count": 2,
   "metadata": {},
   "outputs": [
    {
     "name": "stdout",
     "output_type": "stream",
     "text": [
      "200 220000\n",
      "(1999800, 200)\n"
     ]
    }
   ],
   "source": [
    "#load csv file\n",
    "config=np.genfromtxt('config.csv', delimiter=',', skip_header=0)\n",
    "N=int(config[0])\n",
    "t_max=int(config[1])\n",
    "data = np.genfromtxt('datos_220000.csv', delimiter=',', skip_header=0)\n",
    "data = data[:,:-1]\n",
    "\n",
    "print(N,t_max)\n",
    "print(data.shape)"
   ]
  },
  {
   "cell_type": "code",
   "execution_count": 3,
   "metadata": {},
   "outputs": [
    {
     "name": "stderr",
     "output_type": "stream",
     "text": [
      "MovieWriter ffmpeg unavailable; using Pillow instead.\n"
     ]
    }
   ],
   "source": [
    "\n",
    "fig = plt.figure()\n",
    "ax = fig.add_subplot(111)\n",
    "\n",
    "def updatefig(q):\n",
    "\tplt.clf()\n",
    "\tsingle=data[q*N:(q+1)*N,:]\n",
    "\tax.clear()\n",
    "\tax.set_xticks([])\n",
    "\tax.set_yticks([])\n",
    "\tplt.imshow(single, interpolation='nearest', cmap=plt.cm.inferno)\n",
    "\tplt.clim(0,4)\n",
    "\tplt.colorbar()\n",
    "\tplt.title('time='+str(q*10))\n",
    "\n",
    "\t\n",
    "x=1\n",
    "# y is equal to x string\n",
    "y = str(x)\n",
    "\n",
    "ani = animation.FuncAnimation(fig, updatefig, frames=np.arange(0,int(t_max/10),10))\n",
    "ani.save('animation_'+str(t_max)+'.gif', fps=60)\n"
   ]
  },
  {
   "cell_type": "code",
   "execution_count": null,
   "metadata": {},
   "outputs": [],
   "source": [
    "#gif to mp4\n",
    "#ffmpeg -i animation.gif animation.mp4\n",
    "import moviepy.editor as mp"
   ]
  },
  {
   "cell_type": "code",
   "execution_count": 53,
   "metadata": {},
   "outputs": [
    {
     "name": "stdout",
     "output_type": "stream",
     "text": [
      "Moviepy - Building video animation2.mp4.\n",
      "Moviepy - Writing video animation2.mp4\n",
      "\n"
     ]
    },
    {
     "name": "stderr",
     "output_type": "stream",
     "text": [
      "                                                                 "
     ]
    },
    {
     "name": "stdout",
     "output_type": "stream",
     "text": [
      "Moviepy - Done !\n",
      "Moviepy - video ready animation2.mp4\n"
     ]
    },
    {
     "name": "stderr",
     "output_type": "stream",
     "text": [
      "\r"
     ]
    }
   ],
   "source": [
    "import moviepy.editor as mp\n",
    "import os\n",
    "import sys\n",
    "\n",
    "f=\"animation2.gif\"\n",
    "clip = mp.VideoFileClip((f))\n",
    "clip.write_videofile(os.path.splitext(f)[0]+'.mp4')\n",
    "    "
   ]
  }
 ],
 "metadata": {
  "kernelspec": {
   "display_name": "Python 3",
   "language": "python",
   "name": "python3"
  },
  "language_info": {
   "codemirror_mode": {
    "name": "ipython",
    "version": 3
   },
   "file_extension": ".py",
   "mimetype": "text/x-python",
   "name": "python",
   "nbconvert_exporter": "python",
   "pygments_lexer": "ipython3",
   "version": "3.11.4"
  }
 },
 "nbformat": 4,
 "nbformat_minor": 2
}
