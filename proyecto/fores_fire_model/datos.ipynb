{
 "cells": [
  {
   "cell_type": "code",
   "execution_count": 3,
   "metadata": {},
   "outputs": [],
   "source": [
    "from scipy.io import netcdf\n",
    "import numpy as np\n",
    "import matplotlib\n",
    "import matplotlib.pyplot as plt"
   ]
  },
  {
   "cell_type": "code",
   "execution_count": 6,
   "metadata": {},
   "outputs": [
    {
     "name": "stderr",
     "output_type": "stream",
     "text": [
      "C:\\Users\\Usuario\\AppData\\Local\\Temp\\ipykernel_14144\\157337666.py:2: DeprecationWarning: Please use `NetCDFFile` from the `scipy.io` namespace, the `scipy.io.netcdf` namespace is deprecated.\n",
      "  file2read = netcdf.NetCDFFile(path,'r')\n"
     ]
    },
    {
     "ename": "TypeError",
     "evalue": "Error: datos2.nc is not a valid NetCDF 3 file",
     "output_type": "error",
     "traceback": [
      "\u001b[1;31m---------------------------------------------------------------------------\u001b[0m",
      "\u001b[1;31mTypeError\u001b[0m                                 Traceback (most recent call last)",
      "\u001b[1;32md:\\un\\2023-2\\Mec_estadistica\\Mec_estadistica\\proyecto\\fores_fire_model\\datos.ipynb Cell 2\u001b[0m line \u001b[0;36m2\n\u001b[0;32m      <a href='vscode-notebook-cell:/d%3A/un/2023-2/Mec_estadistica/Mec_estadistica/proyecto/fores_fire_model/datos.ipynb#W1sZmlsZQ%3D%3D?line=0'>1</a>\u001b[0m path\u001b[39m=\u001b[39m\u001b[39m\"\u001b[39m\u001b[39mdatos2.nc\u001b[39m\u001b[39m\"\u001b[39m\n\u001b[1;32m----> <a href='vscode-notebook-cell:/d%3A/un/2023-2/Mec_estadistica/Mec_estadistica/proyecto/fores_fire_model/datos.ipynb#W1sZmlsZQ%3D%3D?line=1'>2</a>\u001b[0m file2read \u001b[39m=\u001b[39m netcdf\u001b[39m.\u001b[39;49mNetCDFFile(path,\u001b[39m'\u001b[39;49m\u001b[39mr\u001b[39;49m\u001b[39m'\u001b[39;49m)\n\u001b[0;32m      <a href='vscode-notebook-cell:/d%3A/un/2023-2/Mec_estadistica/Mec_estadistica/proyecto/fores_fire_model/datos.ipynb#W1sZmlsZQ%3D%3D?line=2'>3</a>\u001b[0m \u001b[39m# temp = file2read.variables[var] # var can be 'Theta', 'S', 'V', 'U' etc..\u001b[39;00m\n\u001b[0;32m      <a href='vscode-notebook-cell:/d%3A/un/2023-2/Mec_estadistica/Mec_estadistica/proyecto/fores_fire_model/datos.ipynb#W1sZmlsZQ%3D%3D?line=3'>4</a>\u001b[0m \u001b[39m# data = temp[:]*1\u001b[39;00m\n\u001b[0;32m      <a href='vscode-notebook-cell:/d%3A/un/2023-2/Mec_estadistica/Mec_estadistica/proyecto/fores_fire_model/datos.ipynb#W1sZmlsZQ%3D%3D?line=4'>5</a>\u001b[0m file2read\u001b[39m.\u001b[39mclose()\n",
      "File \u001b[1;32mc:\\Users\\Usuario\\AppData\\Local\\Programs\\Python\\Python311\\Lib\\site-packages\\scipy\\io\\_netcdf.py:278\u001b[0m, in \u001b[0;36mnetcdf_file.__init__\u001b[1;34m(self, filename, mode, mmap, version, maskandscale)\u001b[0m\n\u001b[0;32m    275\u001b[0m \u001b[39mself\u001b[39m\u001b[39m.\u001b[39m_attributes \u001b[39m=\u001b[39m {}\n\u001b[0;32m    277\u001b[0m \u001b[39mif\u001b[39;00m mode \u001b[39min\u001b[39;00m \u001b[39m'\u001b[39m\u001b[39mra\u001b[39m\u001b[39m'\u001b[39m:\n\u001b[1;32m--> 278\u001b[0m     \u001b[39mself\u001b[39;49m\u001b[39m.\u001b[39;49m_read()\n",
      "File \u001b[1;32mc:\\Users\\Usuario\\AppData\\Local\\Programs\\Python\\Python311\\Lib\\site-packages\\scipy\\io\\_netcdf.py:599\u001b[0m, in \u001b[0;36mnetcdf_file._read\u001b[1;34m(self)\u001b[0m\n\u001b[0;32m    597\u001b[0m magic \u001b[39m=\u001b[39m \u001b[39mself\u001b[39m\u001b[39m.\u001b[39mfp\u001b[39m.\u001b[39mread(\u001b[39m3\u001b[39m)\n\u001b[0;32m    598\u001b[0m \u001b[39mif\u001b[39;00m \u001b[39mnot\u001b[39;00m magic \u001b[39m==\u001b[39m \u001b[39mb\u001b[39m\u001b[39m'\u001b[39m\u001b[39mCDF\u001b[39m\u001b[39m'\u001b[39m:\n\u001b[1;32m--> 599\u001b[0m     \u001b[39mraise\u001b[39;00m \u001b[39mTypeError\u001b[39;00m(\u001b[39m\"\u001b[39m\u001b[39mError: \u001b[39m\u001b[39m%s\u001b[39;00m\u001b[39m is not a valid NetCDF 3 file\u001b[39m\u001b[39m\"\u001b[39m \u001b[39m%\u001b[39m\n\u001b[0;32m    600\u001b[0m                     \u001b[39mself\u001b[39m\u001b[39m.\u001b[39mfilename)\n\u001b[0;32m    601\u001b[0m \u001b[39mself\u001b[39m\u001b[39m.\u001b[39m\u001b[39m__dict__\u001b[39m[\u001b[39m'\u001b[39m\u001b[39mversion_byte\u001b[39m\u001b[39m'\u001b[39m] \u001b[39m=\u001b[39m frombuffer(\u001b[39mself\u001b[39m\u001b[39m.\u001b[39mfp\u001b[39m.\u001b[39mread(\u001b[39m1\u001b[39m), \u001b[39m'\u001b[39m\u001b[39m>b\u001b[39m\u001b[39m'\u001b[39m)[\u001b[39m0\u001b[39m]\n\u001b[0;32m    603\u001b[0m \u001b[39m# Read file headers and set data.\u001b[39;00m\n",
      "\u001b[1;31mTypeError\u001b[0m: Error: datos2.nc is not a valid NetCDF 3 file"
     ]
    }
   ],
   "source": [
    "path=\"datos2.nc\"\n",
    "file2read = netcdf.NetCDFFile(path,'r')\n",
    "# temp = file2read.variables[var] # var can be 'Theta', 'S', 'V', 'U' etc..\n",
    "# data = temp[:]*1\n",
    "file2read.close()"
   ]
  }
 ],
 "metadata": {
  "kernelspec": {
   "display_name": "Python 3",
   "language": "python",
   "name": "python3"
  },
  "language_info": {
   "codemirror_mode": {
    "name": "ipython",
    "version": 3
   },
   "file_extension": ".py",
   "mimetype": "text/x-python",
   "name": "python",
   "nbconvert_exporter": "python",
   "pygments_lexer": "ipython3",
   "version": "3.11.4"
  }
 },
 "nbformat": 4,
 "nbformat_minor": 2
}
