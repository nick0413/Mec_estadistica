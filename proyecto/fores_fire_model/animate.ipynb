{
 "cells": [
  {
   "cell_type": "code",
   "execution_count": 1,
   "metadata": {},
   "outputs": [],
   "source": [
    "import numpy as np\n",
    "import matplotlib.pyplot as plt\n",
    "import matplotlib.animation as animation\n",
    "\n",
    "def read_bin(filename,N):\n",
    "\twith open(filename, 'rb') as f:\n",
    "\t\tdata = np.fromfile(f, dtype=np.int32)\n",
    "\n",
    "\tdata = data.reshape((N, N))\n",
    "\treturn data\n",
    "\n",
    "def segment_time(t_0,t_max):\n",
    "\tbins= np.arange(0,t_max+1,t_0)\n",
    "\tsegments = []\n",
    "\tfor i in range(len(bins)):\n",
    "\t\tsegments.append(bins[i:i+2])\n",
    "\treturn segments[:-1]"
   ]
  },
  {
   "cell_type": "code",
   "execution_count": null,
   "metadata": {},
   "outputs": [],
   "source": [
    "data=[]\n",
    "data_folder = 'datos'\n",
    "\n",
    "for i in range(t_start,t_max):\n",
    "\t# print(i)\n",
    "\tdata.append(\n",
    "\t\tread_bin(data_folder+'/datos'+str(i)+'.bin',N)\n",
    "\t\t)"
   ]
  }
 ],
 "metadata": {
  "kernelspec": {
   "display_name": "Python 3",
   "language": "python",
   "name": "python3"
  },
  "language_info": {
   "codemirror_mode": {
    "name": "ipython",
    "version": 3
   },
   "file_extension": ".py",
   "mimetype": "text/x-python",
   "name": "python",
   "nbconvert_exporter": "python",
   "pygments_lexer": "ipython3",
   "version": "3.11.4"
  }
 },
 "nbformat": 4,
 "nbformat_minor": 2
}
