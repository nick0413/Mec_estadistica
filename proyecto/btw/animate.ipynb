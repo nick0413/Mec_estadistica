{
 "cells": [
  {
   "cell_type": "code",
   "execution_count": 18,
   "metadata": {},
   "outputs": [],
   "source": [
    "import numpy as np\n",
    "import matplotlib.pyplot as plt\n",
    "import matplotlib.animation as animation\n"
   ]
  },
  {
   "cell_type": "code",
   "execution_count": 39,
   "metadata": {},
   "outputs": [],
   "source": [
    "#load csv files\n",
    "config=np.genfromtxt('datos/config.csv', delimiter=',', skip_header=0)\n",
    "N=int(config[0])\n",
    "t_max=int(config[1])\n",
    "\n",
    "data=[]\n",
    "for time in range(t_max):\n",
    "\ttime_data=np.genfromtxt('datos/datos'+str(time)+'.csv', delimiter=',', skip_header=0)\n",
    "\tdata.append(time_data[:,:-1])\n",
    "\n",
    "\n",
    "\n"
   ]
  },
  {
   "cell_type": "code",
   "execution_count": 40,
   "metadata": {},
   "outputs": [
    {
     "data": {
      "image/png": "[encoded data removed]",
      "text/plain": [
       "<Figure size 640x480 with 2 Axes>"
      ]
     },
     "metadata": {},
     "output_type": "display_data"
    }
   ],
   "source": [
    "fig = plt.figure()\n",
    "ax = fig.add_subplot(111)\n",
    "\n",
    "def updatefig(q):\n",
    "\tplt.clf()\n",
    "\tsingle=data[q]\n",
    "\tax.clear()\n",
    "\tax.set_xticks([])\n",
    "\tax.set_yticks([])\n",
    "\tplt.imshow(single, interpolation='nearest', cmap=plt.cm.inferno)\n",
    "\tplt.clim(0,4)\n",
    "\tplt.colorbar()\n",
    "\tplt.title('time='+str(q))\n",
    "\n",
    "x=1\n",
    "# y is equal to x string,\n",
    "y = str(x)\n",
    "\n",
    "ani = animation.FuncAnimation(fig, updatefig, frames=t_max)\n",
    "ani.save('animation_'+str(t_max)+'.gif', fps=30)"
   ]
  },
  {
   "cell_type": "code",
   "execution_count": null,
   "metadata": {},
   "outputs": [],
   "source": [
    "#gif to mp4\n",
    "#ffmpeg -i animation.gif animation.mp4\n",
    "import moviepy.editor as mp"
   ]
  },
  {
   "cell_type": "code",
   "execution_count": 53,
   "metadata": {},
   "outputs": [
    {
     "name": "stdout",
     "output_type": "stream",
     "text": [
      "Moviepy - Building video animation2.mp4.\n",
      "Moviepy - Writing video animation2.mp4\n",
      "\n"
     ]
    },
    {
     "name": "stderr",
     "output_type": "stream",
     "text": [
      "                                                                 "
     ]
    },
    {
     "name": "stdout",
     "output_type": "stream",
     "text": [
      "Moviepy - Done !\n",
      "Moviepy - video ready animation2.mp4\n"
     ]
    },
    {
     "name": "stderr",
     "output_type": "stream",
     "text": [
      "\r"
     ]
    }
   ],
   "source": [
    "import moviepy.editor as mp\n",
    "import os\n",
    "import sys\n",
    "\n",
    "f=\"animation2.gif\"\n",
    "clip = mp.VideoFileClip((f))\n",
    "clip.write_videofile(os.path.splitext(f)[0]+'.mp4')\n",
    "    "
   ]
  }
 ],
 "metadata": {
  "kernelspec": {
   "display_name": "Python 3",
   "language": "python",
   "name": "python3"
  },
  "language_info": {
   "codemirror_mode": {
    "name": "ipython",
    "version": 3
   },
   "file_extension": ".py",
   "mimetype": "text/x-python",
   "name": "python",
   "nbconvert_exporter": "python",
   "pygments_lexer": "ipython3",
   "version": "3.11.4"
  }
 },
 "nbformat": 4,
 "nbformat_minor": 2
}
